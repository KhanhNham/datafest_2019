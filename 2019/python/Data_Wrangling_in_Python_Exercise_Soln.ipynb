{
 "cells": [
  {
   "cell_type": "markdown",
   "metadata": {
    "ExecuteTime": {
     "end_time": "2019-03-29T13:51:45.337849Z",
     "start_time": "2019-03-29T13:51:44.774397Z"
    }
   },
   "source": [
    "### Exercise 1"
   ]
  },
  {
   "cell_type": "code",
   "execution_count": 11,
   "metadata": {
    "ExecuteTime": {
     "end_time": "2019-03-29T13:57:09.139281Z",
     "start_time": "2019-03-29T13:57:08.411496Z"
    }
   },
   "outputs": [],
   "source": [
    "# possible solution for exercise 1\n",
    "\n",
    "temp_full['datetime'] = pd.to_datetime(temp_full['datetime'])\n",
    "\n",
    "start_datetime = datetime.datetime(2013,1,1)\n",
    "end_datetime = datetime.datetime(2013,12,31)\n",
    "\n",
    "temp_subset = temp_full[temp_full.datetime.between(start_datetime, end_datetime)]\n",
    "\n",
    "temp_subset = temp_subset.set_index('datetime')\n",
    "\n",
    "temp_subset = temp_subset.transpose()\n",
    "\n",
    "df_merged = pd.merge(temp_subset, city_full, how='left', left_index=True, right_index=True)\n",
    "\n",
    "df_merged.query('Country == \"Canada\"')"
   ]
  },
  {
   "cell_type": "markdown",
   "metadata": {
    "ExecuteTime": {
     "end_time": "2019-03-29T14:01:34.683811Z",
     "start_time": "2019-03-29T14:01:34.662674Z"
    }
   },
   "source": [
    "### Exercise 2"
   ]
  },
  {
   "cell_type": "code",
   "execution_count": null,
   "metadata": {
    "ExecuteTime": {
     "end_time": "2019-03-30T12:27:23.524918Z",
     "start_time": "2019-03-30T12:27:23.430779Z"
    }
   },
   "outputs": [],
   "source": [
    "# possible solution for exercise 2\n",
    "\n",
    "temp_full['datetime'] = pd.to_datetime(temp_full['datetime'])\n",
    "\n",
    "df2 = temp_full.set_index('datetime')\n",
    "\n",
    "df3 = df2.query(\"index.dt.month in [6, 7, 8, 9] & index.dt.year in [2013, 2014]\")\n",
    "\n",
    "df3.max()"
   ]
  },
  {
   "cell_type": "code",
   "execution_count": null,
   "metadata": {},
   "outputs": [],
   "source": []
  }
 ],
 "metadata": {
  "kernelspec": {
   "display_name": "Python 3",
   "language": "python",
   "name": "python3"
  },
  "language_info": {
   "codemirror_mode": {
    "name": "ipython",
    "version": 3
   },
   "file_extension": ".py",
   "mimetype": "text/x-python",
   "name": "python",
   "nbconvert_exporter": "python",
   "pygments_lexer": "ipython3",
   "version": "3.6.1"
  }
 },
 "nbformat": 4,
 "nbformat_minor": 2
}
